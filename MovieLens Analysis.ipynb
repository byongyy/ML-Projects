{
 "cells": [
  {
   "cell_type": "markdown",
   "metadata": {},
   "source": [
    "## MOVIELENS SMALL\n",
    "I'm going to take a look at the MovieLens dataset. Although not the full 26M version (my poor GTX1060 is nowhere near powerful enough to do well on that), this 100k sample long dataset should provide a good enough basis to build some meaningful analysis from."
   ]
  },
  {
   "cell_type": "markdown",
   "metadata": {},
   "source": [
    "### Preparation\n",
    "#### Standard imports and global variables"
   ]
  },
  {
   "cell_type": "code",
   "execution_count": 1,
   "metadata": {},
   "outputs": [],
   "source": [
    "%reload_ext autoreload\n",
    "%autoreload 2\n",
    "%matplotlib inline\n",
    "\n",
    "import numpy as np\n",
    "import pandas as pd\n",
    "import seaborn as sns\n",
    "import matplotlib.pyplot as plt\n",
    "\n",
    "from sklearn.model_selection import train_test_split\n",
    "from fastai.learner import *\n",
    "from fastai.column_data import *"
   ]
  },
  {
   "cell_type": "code",
   "execution_count": 2,
   "metadata": {},
   "outputs": [],
   "source": [
    "path='data/MovieLens/'\n",
    "fname_ratings = 'ratings.csv'\n",
    "fname_movies = 'movies.csv'"
   ]
  },
  {
   "cell_type": "markdown",
   "metadata": {},
   "source": [
    "#### Loading the dataset\n",
    "Lets read in the data and go over how it looks like. There are three .csv's provided with the data: ratings.csv, movies.csv, and tags.csv. I feel tags.csv is too arbitrary and sparse for any meaningful analysis, and will stick with just movies.csv and ratings.csv. The former contains data on the movie title and genres, while the latter has each user's ratings on specific movies."
   ]
  },
  {
   "cell_type": "code",
   "execution_count": 3,
   "metadata": {},
   "outputs": [],
   "source": [
    "ratings = pd.read_csv(path+fname_ratings)\n",
    "movies = pd.read_csv(path+fname_movies)"
   ]
  },
  {
   "cell_type": "markdown",
   "metadata": {},
   "source": [
    "Quick look on what these DataFrames looks like:"
   ]
  },
  {
   "cell_type": "code",
   "execution_count": 4,
   "metadata": {
    "scrolled": true
   },
   "outputs": [
    {
     "data": {
      "text/html": [
       "<div>\n",
       "<style scoped>\n",
       "    .dataframe tbody tr th:only-of-type {\n",
       "        vertical-align: middle;\n",
       "    }\n",
       "\n",
       "    .dataframe tbody tr th {\n",
       "        vertical-align: top;\n",
       "    }\n",
       "\n",
       "    .dataframe thead th {\n",
       "        text-align: right;\n",
       "    }\n",
       "</style>\n",
       "<table border=\"1\" class=\"dataframe\">\n",
       "  <thead>\n",
       "    <tr style=\"text-align: right;\">\n",
       "      <th></th>\n",
       "      <th>userId</th>\n",
       "      <th>movieId</th>\n",
       "      <th>rating</th>\n",
       "      <th>timestamp</th>\n",
       "    </tr>\n",
       "  </thead>\n",
       "  <tbody>\n",
       "    <tr>\n",
       "      <th>0</th>\n",
       "      <td>1</td>\n",
       "      <td>31</td>\n",
       "      <td>2.5</td>\n",
       "      <td>1260759144</td>\n",
       "    </tr>\n",
       "    <tr>\n",
       "      <th>1</th>\n",
       "      <td>1</td>\n",
       "      <td>1029</td>\n",
       "      <td>3.0</td>\n",
       "      <td>1260759179</td>\n",
       "    </tr>\n",
       "    <tr>\n",
       "      <th>2</th>\n",
       "      <td>1</td>\n",
       "      <td>1061</td>\n",
       "      <td>3.0</td>\n",
       "      <td>1260759182</td>\n",
       "    </tr>\n",
       "    <tr>\n",
       "      <th>3</th>\n",
       "      <td>1</td>\n",
       "      <td>1129</td>\n",
       "      <td>2.0</td>\n",
       "      <td>1260759185</td>\n",
       "    </tr>\n",
       "    <tr>\n",
       "      <th>4</th>\n",
       "      <td>1</td>\n",
       "      <td>1172</td>\n",
       "      <td>4.0</td>\n",
       "      <td>1260759205</td>\n",
       "    </tr>\n",
       "  </tbody>\n",
       "</table>\n",
       "</div>"
      ],
      "text/plain": [
       "   userId  movieId  rating   timestamp\n",
       "0       1       31     2.5  1260759144\n",
       "1       1     1029     3.0  1260759179\n",
       "2       1     1061     3.0  1260759182\n",
       "3       1     1129     2.0  1260759185\n",
       "4       1     1172     4.0  1260759205"
      ]
     },
     "execution_count": 4,
     "metadata": {},
     "output_type": "execute_result"
    }
   ],
   "source": [
    "ratings.head()"
   ]
  },
  {
   "cell_type": "code",
   "execution_count": 5,
   "metadata": {
    "scrolled": false
   },
   "outputs": [
    {
     "data": {
      "text/html": [
       "<div>\n",
       "<style scoped>\n",
       "    .dataframe tbody tr th:only-of-type {\n",
       "        vertical-align: middle;\n",
       "    }\n",
       "\n",
       "    .dataframe tbody tr th {\n",
       "        vertical-align: top;\n",
       "    }\n",
       "\n",
       "    .dataframe thead th {\n",
       "        text-align: right;\n",
       "    }\n",
       "</style>\n",
       "<table border=\"1\" class=\"dataframe\">\n",
       "  <thead>\n",
       "    <tr style=\"text-align: right;\">\n",
       "      <th></th>\n",
       "      <th>movieId</th>\n",
       "      <th>title</th>\n",
       "      <th>genres</th>\n",
       "    </tr>\n",
       "  </thead>\n",
       "  <tbody>\n",
       "    <tr>\n",
       "      <th>0</th>\n",
       "      <td>1</td>\n",
       "      <td>Toy Story (1995)</td>\n",
       "      <td>Adventure|Animation|Children|Comedy|Fantasy</td>\n",
       "    </tr>\n",
       "    <tr>\n",
       "      <th>1</th>\n",
       "      <td>2</td>\n",
       "      <td>Jumanji (1995)</td>\n",
       "      <td>Adventure|Children|Fantasy</td>\n",
       "    </tr>\n",
       "    <tr>\n",
       "      <th>2</th>\n",
       "      <td>3</td>\n",
       "      <td>Grumpier Old Men (1995)</td>\n",
       "      <td>Comedy|Romance</td>\n",
       "    </tr>\n",
       "    <tr>\n",
       "      <th>3</th>\n",
       "      <td>4</td>\n",
       "      <td>Waiting to Exhale (1995)</td>\n",
       "      <td>Comedy|Drama|Romance</td>\n",
       "    </tr>\n",
       "    <tr>\n",
       "      <th>4</th>\n",
       "      <td>5</td>\n",
       "      <td>Father of the Bride Part II (1995)</td>\n",
       "      <td>Comedy</td>\n",
       "    </tr>\n",
       "  </tbody>\n",
       "</table>\n",
       "</div>"
      ],
      "text/plain": [
       "   movieId                               title  \\\n",
       "0        1                    Toy Story (1995)   \n",
       "1        2                      Jumanji (1995)   \n",
       "2        3             Grumpier Old Men (1995)   \n",
       "3        4            Waiting to Exhale (1995)   \n",
       "4        5  Father of the Bride Part II (1995)   \n",
       "\n",
       "                                        genres  \n",
       "0  Adventure|Animation|Children|Comedy|Fantasy  \n",
       "1                   Adventure|Children|Fantasy  \n",
       "2                               Comedy|Romance  \n",
       "3                         Comedy|Drama|Romance  \n",
       "4                                       Comedy  "
      ]
     },
     "execution_count": 5,
     "metadata": {},
     "output_type": "execute_result"
    }
   ],
   "source": [
    "movies.head()"
   ]
  },
  {
   "cell_type": "code",
   "execution_count": 6,
   "metadata": {},
   "outputs": [
    {
     "data": {
      "text/plain": [
       "((100004, 4), (9125, 3))"
      ]
     },
     "execution_count": 6,
     "metadata": {},
     "output_type": "execute_result"
    }
   ],
   "source": [
    "ratings.shape, movies.shape"
   ]
  },
  {
   "cell_type": "markdown",
   "metadata": {},
   "source": [
    "### Analyzing the data\n",
    "So we want to see how the data looks like. My guess is ratings are on a 1-5 scale with 0.5 breakpoints. Another theory is that certain genres will have better ratings than others, e.g. dramas vs. comedies."
   ]
  },
  {
   "cell_type": "markdown",
   "metadata": {},
   "source": [
    "#### Ratings distribution\n",
    "Starting with the easy part, lets check whether ratings are indeed from 1 to 5."
   ]
  },
  {
   "cell_type": "code",
   "execution_count": 7,
   "metadata": {},
   "outputs": [
    {
     "data": {
      "text/plain": [
       "array([0.5, 1. , 1.5, 2. , 2.5, 3. , 3.5, 4. , 4.5, 5. ])"
      ]
     },
     "execution_count": 7,
     "metadata": {},
     "output_type": "execute_result"
    }
   ],
   "source": [
    "np.sort(ratings['rating'].unique())"
   ]
  },
  {
   "cell_type": "markdown",
   "metadata": {},
   "source": [
    "My hunch was correct. This should help make things easier than a 1-10, 0.1 breakpoint scale. But what about the distribution? Does it behave like a normal distribution?"
   ]
  },
  {
   "cell_type": "code",
   "execution_count": 8,
   "metadata": {
    "scrolled": false
   },
   "outputs": [
    {
     "data": {
      "text/plain": [
       "<matplotlib.axes._subplots.AxesSubplot at 0x1a21f3d6ba8>"
      ]
     },
     "execution_count": 8,
     "metadata": {},
     "output_type": "execute_result"
    },
    {
     "data": {
      "image/png": "[encoded data removed]",
      "text/plain": [
       "<Figure size 432x288 with 1 Axes>"
      ]
     },
     "metadata": {},
     "output_type": "display_data"
    }
   ],
   "source": [
    "# Gets the frequency counts for each rating\n",
    "counts = ratings['rating'].value_counts(normalize=True)\n",
    "x = counts.index.values\n",
    "y = counts.values\n",
    "# Plots the distribution\n",
    "sns.barplot(x, y, color=\"lightblue\")"
   ]
  },
  {
   "cell_type": "markdown",
   "metadata": {},
   "source": [
    "Obviously this doesn't look like a normal distribution at all. The ratings are heavily skewed to the right, indicating that users are more lenient when reviewing movies. From a personal standpoint, this makes sense. I never give 1 star ratings to bad movies, usually 2 to 3 stars, but wouldn't hesitate to give 5 stars to cinematic masterpieces like LOTR or La La Land. Then again, someone else might rate other movies on a different scale. This subjectivity could be a problem when building our model."
   ]
  },
  {
   "cell_type": "markdown",
   "metadata": {},
   "source": [
    "#### Genre biasedness\n",
    "Next, I want to take a look at whether different genres have different ratings. Some data manipulation needs to be done here in order to get started. The plan is to create a list of different genres, then find the average rating of each movie and group them by genre."
   ]
  },
  {
   "cell_type": "code",
   "execution_count": 9,
   "metadata": {
    "scrolled": false
   },
   "outputs": [
    {
     "data": {
      "text/plain": [
       "({'Action',\n",
       "  'Adventure',\n",
       "  'Animation',\n",
       "  'Children',\n",
       "  'Comedy',\n",
       "  'Crime',\n",
       "  'Documentary',\n",
       "  'Drama',\n",
       "  'Fantasy',\n",
       "  'Film-Noir',\n",
       "  'Horror',\n",
       "  'IMAX',\n",
       "  'Musical',\n",
       "  'Mystery',\n",
       "  'Romance',\n",
       "  'Sci-Fi',\n",
       "  'Thriller',\n",
       "  'War',\n",
       "  'Western'},\n",
       " 19)"
      ]
     },
     "execution_count": 9,
     "metadata": {},
     "output_type": "execute_result"
    }
   ],
   "source": [
    "# Splitting the genres strings into a Pandas DataFrame\n",
    "gen = movies['genres'].str.split('|', expand=True)\n",
    "genres = []\n",
    "# Looping over each column and adding them to the list\n",
    "for col in gen.columns:\n",
    "    genres.extend(gen[col].unique())\n",
    "# Keeping unique genres\n",
    "genres = set(genres)\n",
    "# Dropping the 'None' and '(no genres listed)' entries\n",
    "genres.remove(None)\n",
    "genres.remove('(no genres listed)')\n",
    "genres, len(genres)"
   ]
  },
  {
   "cell_type": "markdown",
   "metadata": {},
   "source": [
    "We end up with 19 different movie genres. Now we have to group the ratings by genre. It's worth noting that IMAX is in fact a genre now.."
   ]
  },
  {
   "cell_type": "code",
   "execution_count": 10,
   "metadata": {},
   "outputs": [],
   "source": [
    "# Declaring new DataFrame grouping ratings by genre\n",
    "ratings_by_genre = pd.DataFrame(index=movies.index.values,\n",
    "                                columns=genres)\n",
    "# crude for-loop to group them\n",
    "for index, row in movies.iterrows():\n",
    "    avgRating = ratings[ratings['movieId'] == row['movieId']]['rating'].mean()\n",
    "    for genre in genres:\n",
    "        if genre in row['genres']:\n",
    "            ratings_by_genre.iloc[index][genre] = avgRating"
   ]
  },
  {
   "cell_type": "markdown",
   "metadata": {},
   "source": [
    "As a sanity check, I'll go over a couple of the movies and make sure the averages are correct. Let's just do Toy Story and Jason Bourne."
   ]
  },
  {
   "cell_type": "code",
   "execution_count": 11,
   "metadata": {},
   "outputs": [
    {
     "data": {
      "text/plain": [
       "(True, True)"
      ]
     },
     "execution_count": 11,
     "metadata": {},
     "output_type": "execute_result"
    }
   ],
   "source": [
    "toy_story = ratings_by_genre.iloc[0].max()\n",
    "jason_bourne = ratings_by_genre.iloc[9101].max()\n",
    "toy_story_orig = ratings[ratings['movieId'] == 1]['rating'].mean()\n",
    "jason_bourne_orig = ratings[ratings['movieId'] == 160438]['rating'].mean()\n",
    "\n",
    "toy_story == toy_story_orig, jason_bourne == jason_bourne_orig"
   ]
  },
  {
   "cell_type": "markdown",
   "metadata": {},
   "source": [
    "Everything checks out so far. Lets see if users rate different genres differently."
   ]
  },
  {
   "cell_type": "code",
   "execution_count": 12,
   "metadata": {},
   "outputs": [
    {
     "data": {
      "text/plain": [
       "Film-Noir      3.669072\n",
       "Animation      3.418974\n",
       "War            3.534021\n",
       "Adventure      3.229862\n",
       "Crime          3.301617\n",
       "Mystery        3.383182\n",
       "Fantasy        3.183827\n",
       "Horror         2.991933\n",
       "Drama          3.447417\n",
       "Musical        3.334025\n",
       "IMAX           3.059028\n",
       "Thriller       3.183073\n",
       "Sci-Fi         3.167052\n",
       "Romance        3.344588\n",
       "Comedy         3.190353\n",
       "Children       3.138675\n",
       "Documentary    3.686744\n",
       "Action         3.090863\n",
       "Western        3.421001\n",
       "dtype: float64"
      ]
     },
     "execution_count": 12,
     "metadata": {},
     "output_type": "execute_result"
    }
   ],
   "source": [
    "averagesByGenre = ratings_by_genre.mean(axis=0)\n",
    "averagesByGenre"
   ]
  },
  {
   "cell_type": "code",
   "execution_count": 13,
   "metadata": {},
   "outputs": [
    {
     "data": {
      "text/plain": [
       "<matplotlib.axes._subplots.AxesSubplot at 0x1a221aafc50>"
      ]
     },
     "execution_count": 13,
     "metadata": {},
     "output_type": "execute_result"
    },
    {
     "data": {
      "image/png": "[encoded data removed]",
      "text/plain": [
       "<Figure size 432x288 with 1 Axes>"
      ]
     },
     "metadata": {},
     "output_type": "display_data"
    }
   ],
   "source": [
    "sns.barplot(averagesByGenre,\n",
    "            averagesByGenre.index,\n",
    "            orient=\"h\")"
   ]
  },
  {
   "cell_type": "markdown",
   "metadata": {},
   "source": [
    "Doesn't really look like there's a significant different between genres. That's one aspect of biasedness out of the equation."
   ]
  },
  {
   "cell_type": "markdown",
   "metadata": {},
   "source": [
    "### Collaborative filtering\n",
    "#### Initializing the model\n",
    "So let's start by declaring the learner and initializing it. I'm borrowing the CollabFilterDataset method from fast.ai's library as well as its corresponding get_learner() method. CollabFilterDataset is a pre-built collaborative filtering learner that builds its own matrix from a 2D dataset, which is what we have."
   ]
  },
  {
   "cell_type": "code",
   "execution_count": 14,
   "metadata": {},
   "outputs": [],
   "source": [
    "cf_data = CollabFilterDataset.from_csv(path, 'ratings.csv', 'userId', 'movieId', 'rating')\n",
    "# initializing parameters\n",
    "val_idxs = get_cv_idxs(ratings.shape[0])\n",
    "n_factors = 25\n",
    "batchSize = 256\n",
    "# initializing the learner to use an Adam optimization algorithm\n",
    "learner = cf_data.get_learner(n_factors,\n",
    "                             val_idxs,\n",
    "                             batchSize,\n",
    "                             opt_fn=optim.Adam)"
   ]
  },
  {
   "cell_type": "markdown",
   "metadata": {},
   "source": [
    "The package also comes with a nifty method to find the optimal learning rate. It is done by plotting the learning_rate against loss and using the 'elbow' point for the learning rate. This ensures loss convergence without sacrificing processing time."
   ]
  },
  {
   "cell_type": "code",
   "execution_count": 15,
   "metadata": {
    "scrolled": true
   },
   "outputs": [
    {
     "data": {
      "application/vnd.jupyter.widget-view+json": {
       "model_id": "698a0200becc4eee8b1583c58f7ab4bd",
       "version_major": 2,
       "version_minor": 0
      },
      "text/plain": [
       "HBox(children=(IntProgress(value=0, description='Epoch', max=1), HTML(value='')))"
      ]
     },
     "metadata": {},
     "output_type": "display_data"
    },
    {
     "name": "stdout",
     "output_type": "stream",
     "text": [
      "epoch      trn_loss   val_loss                                                 \n",
      "    0      5.388362   6.456549  \n",
      "\n"
     ]
    }
   ],
   "source": [
    "learner.lr_find()"
   ]
  },
  {
   "cell_type": "code",
   "execution_count": 16,
   "metadata": {},
   "outputs": [
    {
     "data": {
      "image/png": "[encoded data removed]",
      "text/plain": [
       "<Figure size 432x288 with 1 Axes>"
      ]
     },
     "metadata": {},
     "output_type": "display_data"
    }
   ],
   "source": [
    "learner.sched.plot()"
   ]
  },
  {
   "cell_type": "markdown",
   "metadata": {},
   "source": [
    "So our learning rate should definitely be before 1e-1. Major overfitting happens beyond that point. It should also ideally be after 1e-2 just so it doesn't take excessively long to converge, but let's just err on the side of caution and use 0.01."
   ]
  },
  {
   "cell_type": "code",
   "execution_count": 17,
   "metadata": {},
   "outputs": [
    {
     "data": {
      "application/vnd.jupyter.widget-view+json": {
       "model_id": "cf6548ac5f3a4d7ab283bac1f49786e1",
       "version_major": 2,
       "version_minor": 0
      },
      "text/plain": [
       "HBox(children=(IntProgress(value=0, description='Epoch', max=14), HTML(value='')))"
      ]
     },
     "metadata": {},
     "output_type": "display_data"
    },
    {
     "name": "stdout",
     "output_type": "stream",
     "text": [
      "epoch      trn_loss   val_loss                                                 \n",
      "    0      0.82684    0.799269  \n",
      "    1      0.669458   0.776689                                                 \n",
      "    2      0.680911   0.768911                                                 \n",
      "    3      0.506421   0.772163                                                 \n",
      "    4      0.363436   0.774762                                                 \n",
      "    5      0.288085   0.776737                                                 \n",
      "    6      0.513622   0.828444                                                 \n",
      "    7      0.428942   0.814725                                                 \n",
      "    8      0.378639   0.820188                                                 \n",
      "    9      0.327657   0.822594                                                 \n",
      "    10     0.284032   0.824967                                                 \n",
      "    11     0.241821   0.827353                                                 \n",
      "    12     0.211966   0.828367                                                 \n",
      "    13     0.189257   0.828751                                                 \n",
      "\n"
     ]
    },
    {
     "data": {
      "text/plain": [
       "[array([0.82875])]"
      ]
     },
     "execution_count": 17,
     "metadata": {},
     "output_type": "execute_result"
    }
   ],
   "source": [
    "lr = 0.01\n",
    "wd = 1e-4    # this is the L2 regularization parameter. We want the weights to be reasonably well behaved.\n",
    "learner.fit(lr, 3, wds=wd, cycle_len=2, cycle_mult=2)"
   ]
  },
  {
   "cell_type": "markdown",
   "metadata": {},
   "source": [
    "We used an approach called annealing with restarts to help reduce the chance of local minima as well. Essentially, we slowly reduce the learning rate at each iteration and reset it to its original value after each epoch. We also double the epochs per reset each time a reset occurs to help convergence. The plot below shows how the learning rate changes over time."
   ]
  },
  {
   "cell_type": "code",
   "execution_count": 18,
   "metadata": {},
   "outputs": [
    {
     "data": {
      "image/png": "[encoded data removed]",
      "text/plain": [
       "<Figure size 432x288 with 1 Axes>"
      ]
     },
     "metadata": {},
     "output_type": "display_data"
    }
   ],
   "source": [
    "learner.sched.plot_lr()"
   ]
  },
  {
   "cell_type": "markdown",
   "metadata": {},
   "source": [
    "The learner is also clearly overfitting starting from epoch 4. Let's try reinitializing the learner and fitting to just 4 epochs, then predicting. I'm also going to up the learning rate a little just to make sure it converges"
   ]
  },
  {
   "cell_type": "code",
   "execution_count": 19,
   "metadata": {},
   "outputs": [
    {
     "data": {
      "application/vnd.jupyter.widget-view+json": {
       "model_id": "5acb664a46a1434a89c7b7a117b23845",
       "version_major": 2,
       "version_minor": 0
      },
      "text/plain": [
       "HBox(children=(IntProgress(value=0, description='Epoch', max=4), HTML(value='')))"
      ]
     },
     "metadata": {},
     "output_type": "display_data"
    },
    {
     "name": "stdout",
     "output_type": "stream",
     "text": [
      "epoch      trn_loss   val_loss                                                 \n",
      "    0      0.815592   0.820051  \n",
      "    1      0.739584   0.774074                                                 \n",
      "    2      0.525509   0.763791                                                 \n",
      "    3      0.334223   0.767147                                                 \n",
      "\n"
     ]
    },
    {
     "data": {
      "text/plain": [
       "[array([0.76715])]"
      ]
     },
     "execution_count": 19,
     "metadata": {},
     "output_type": "execute_result"
    }
   ],
   "source": [
    "learner = cf_data.get_learner(n_factors,\n",
    "                             val_idxs,\n",
    "                             batchSize,\n",
    "                             opt_fn=optim.Adam)\n",
    "lr = 0.015\n",
    "learner.fit(lr, 2, wds=wd, cycle_len=1, cycle_mult=3)"
   ]
  },
  {
   "cell_type": "markdown",
   "metadata": {},
   "source": [
    "Looking good. Now it's time to try predicting. I'll compare the predictions with the validation set."
   ]
  },
  {
   "cell_type": "code",
   "execution_count": 20,
   "metadata": {
    "scrolled": true
   },
   "outputs": [
    {
     "name": "stderr",
     "output_type": "stream",
     "text": [
      "C:\\Users\\Bryan\\AppData\\Local\\conda\\conda\\envs\\fastai\\lib\\site-packages\\matplotlib\\axes\\_axes.py:6462: UserWarning: The 'normed' kwarg is deprecated, and has been replaced by the 'density' kwarg.\n",
      "  warnings.warn(\"The 'normed' kwarg is deprecated, and has been \"\n"
     ]
    },
    {
     "data": {
      "text/plain": [
       "<seaborn.axisgrid.JointGrid at 0x1a221a844e0>"
      ]
     },
     "execution_count": 20,
     "metadata": {},
     "output_type": "execute_result"
    },
    {
     "data": {
      "image/png": "[encoded data removed]",
      "text/plain": [
       "<Figure size 504x504 with 3 Axes>"
      ]
     },
     "metadata": {},
     "output_type": "display_data"
    }
   ],
   "source": [
    "preds = learner.predict()\n",
    "actuals = learner.data.val_y\n",
    "sns.jointplot(preds, actuals, kind=\"hex\", stat_func=None, size=7)"
   ]
  },
  {
   "cell_type": "markdown",
   "metadata": {},
   "source": [
    "There is indeed a positive correlation between predictions and actuals. The hex plot gives a good idea on the learner's accuracy. It's actually pretty good at predicting user ratings to within 0.5 difference."
   ]
  },
  {
   "cell_type": "markdown",
   "metadata": {},
   "source": [
    "### Model Analysis\n",
    "#### Layers\n",
    "The deep learner makes use of embedded matrices to help the model identify traits possessed by movies. For example, dialogue heavy vs. little dialogue, or simply genre type. These take on a numerical value represented by the embeddings, as a spectrum representing the intensity of said trait. I'll start by looking at the embeddings and try to make sense of them by comparing movies on each end of these spectrums."
   ]
  },
  {
   "cell_type": "code",
   "execution_count": 21,
   "metadata": {},
   "outputs": [
    {
     "data": {
      "text/plain": [
       "EmbeddingDotBias(\n",
       "  (u): Embedding(671, 25)\n",
       "  (i): Embedding(9066, 25)\n",
       "  (ub): Embedding(671, 1)\n",
       "  (ib): Embedding(9066, 1)\n",
       ")"
      ]
     },
     "execution_count": 21,
     "metadata": {},
     "output_type": "execute_result"
    }
   ],
   "source": [
    "model = learner.model\n",
    "model"
   ]
  },
  {
   "cell_type": "markdown",
   "metadata": {},
   "source": [
    "#### Biases\n",
    "The fast.ai documentation has these layers designated as u for users and i for items. These are the weights per user/item used to define the 25 traits identified by the model. Meanwhile, ub and ib are the biases for each of these entries, much like the b value in a linear y=ax+b curve. In the context of movies, which are the items in this model, ib's rankings could be a good representation of the overall userbase's sentiment towards movies. Let's take a look at the top and bottom 10 movies based on these biases. For simplicity's sake, I'm also going to narrow my view to the 1000 movies with the most number of ratings."
   ]
  },
  {
   "cell_type": "code",
   "execution_count": 22,
   "metadata": {},
   "outputs": [],
   "source": [
    "# initializing a dict for easy lookup in the future\n",
    "movieTitles = movies.set_index('movieId')['title'].to_dict()\n",
    "# grouping movies by number of ratings and keeping the top 1000\n",
    "moviesWithCounts = ratings.groupby('movieId')['rating'].count()\n",
    "topThousandMovies = moviesWithCounts.sort_values(ascending=False).index.values[:1000]\n",
    "# getting indices of top 1000 movies corresponding to index in @movies\n",
    "topMoviesIndices = np.array([cf_data.item2idx[o] for o in topThousandMovies])"
   ]
  },
  {
   "cell_type": "code",
   "execution_count": 23,
   "metadata": {},
   "outputs": [],
   "source": [
    "movieBiases = to_np(model.ib(V(topMoviesIndices)))\n",
    "movieBiases = [(b[0], movieTitles[i]) for i,b in zip(topThousandMovies, movieBiases)]"
   ]
  },
  {
   "cell_type": "markdown",
   "metadata": {},
   "source": [
    "Okay now let's go over the 10 highest and lowest biases:\n",
    "#### Top 10"
   ]
  },
  {
   "cell_type": "code",
   "execution_count": 24,
   "metadata": {},
   "outputs": [
    {
     "data": {
      "text/plain": [
       "[(1.2285656, 'Shawshank Redemption, The (1994)'),\n",
       " (0.9559595, 'Usual Suspects, The (1995)'),\n",
       " (0.93635684, 'Godfather, The (1972)'),\n",
       " (0.8505829, '12 Angry Men (1957)'),\n",
       " (0.8339518, \"Schindler's List (1993)\"),\n",
       " (0.8114828, 'Stand by Me (1986)'),\n",
       " (0.8095997, 'Princess Bride, The (1987)'),\n",
       " (0.8088812, 'Silence of the Lambs, The (1991)'),\n",
       " (0.787944, 'Godfather: Part II, The (1974)'),\n",
       " (0.7833007, 'Fargo (1996)')]"
      ]
     },
     "execution_count": 24,
     "metadata": {},
     "output_type": "execute_result"
    }
   ],
   "source": [
    "sorted(movieBiases, reverse=True)[:10]"
   ]
  },
  {
   "cell_type": "markdown",
   "metadata": {},
   "source": [
    "#### Bottom 10"
   ]
  },
  {
   "cell_type": "code",
   "execution_count": 25,
   "metadata": {},
   "outputs": [
    {
     "data": {
      "text/plain": [
       "[(-0.7120163, 'Wild Wild West (1999)'),\n",
       " (-0.7052543, 'Anaconda (1997)'),\n",
       " (-0.5836874, 'Congo (1995)'),\n",
       " (-0.57347834, 'Godzilla (1998)'),\n",
       " (-0.55380976, 'Batman & Robin (1997)'),\n",
       " (-0.534787, 'Flintstones, The (1994)'),\n",
       " (-0.46991667, 'Judge Dredd (1995)'),\n",
       " (-0.4661855, 'Home Alone 2: Lost in New York (1992)'),\n",
       " (-0.45306474, 'Lost in Space (1998)'),\n",
       " (-0.44899797, 'Hollow Man (2000)')]"
      ]
     },
     "execution_count": 25,
     "metadata": {},
     "output_type": "execute_result"
    }
   ],
   "source": [
    "sorted(movieBiases)[:10]"
   ]
  },
  {
   "cell_type": "markdown",
   "metadata": {},
   "source": [
    "Looks about right. I'd certainly rank Shawshank Redemption and Godfather in the top 10 movies of all time. Similarly, I wouldn't want to watch Bat-nipples again."
   ]
  },
  {
   "cell_type": "markdown",
   "metadata": {},
   "source": [
    "#### Embeddings\n",
    "Now we'll check out what's happening with the embeddings themselves. Remember, these are the traits the model extracted from the data that it believes most allows it to properly assign ratings."
   ]
  },
  {
   "cell_type": "code",
   "execution_count": 26,
   "metadata": {},
   "outputs": [
    {
     "data": {
      "text/plain": [
       "(1000, 25)"
      ]
     },
     "execution_count": 26,
     "metadata": {},
     "output_type": "execute_result"
    }
   ],
   "source": [
    "movie_embeddings = to_np(model.i(V(topMoviesIndices)))\n",
    "movie_embeddings.shape"
   ]
  },
  {
   "cell_type": "markdown",
   "metadata": {},
   "source": [
    "25 embeddings might be a bit too complex for us to understand, so I will use PCA to select the top three most telling vectors."
   ]
  },
  {
   "cell_type": "code",
   "execution_count": 27,
   "metadata": {},
   "outputs": [
    {
     "data": {
      "text/plain": [
       "(3, 1000)"
      ]
     },
     "execution_count": 27,
     "metadata": {},
     "output_type": "execute_result"
    }
   ],
   "source": [
    "from sklearn.decomposition import PCA\n",
    "pca = PCA(n_components=3)\n",
    "components = pca.fit(movie_embeddings.T).components_\n",
    "components.shape"
   ]
  },
  {
   "cell_type": "markdown",
   "metadata": {},
   "source": [
    "I'll go over these one by one. There's no scientific way to actually understand what these traits are - the model only understands numbers, but by looking at the highest and lowest movies belonging to these values maybe I'll be able to see what they represent."
   ]
  },
  {
   "cell_type": "code",
   "execution_count": 28,
   "metadata": {},
   "outputs": [
    {
     "data": {
      "text/plain": [
       "[(0.106963545, 'Pulp Fiction (1994)'),\n",
       " (0.105677806, 'Godfather, The (1972)'),\n",
       " (0.09843157, 'Fargo (1996)'),\n",
       " (0.091893114, 'Chinatown (1974)'),\n",
       " (0.0913241, 'Apocalypse Now (1979)'),\n",
       " (0.088510856, 'Godfather: Part II, The (1974)'),\n",
       " (0.08041293, 'Usual Suspects, The (1995)'),\n",
       " (0.07962686, 'Casablanca (1942)'),\n",
       " (0.07680657, 'Taxi Driver (1976)'),\n",
       " (0.076530926, 'Shining, The (1980)')]"
      ]
     },
     "execution_count": 28,
     "metadata": {},
     "output_type": "execute_result"
    }
   ],
   "source": [
    "# 1st PCA component\n",
    "first = components[0]\n",
    "movies_first = [(f, movieTitles[i]) for f,i in zip(first, topThousandMovies)]\n",
    "sorted(movies_first, reverse=True)[:10]"
   ]
  },
  {
   "cell_type": "code",
   "execution_count": 29,
   "metadata": {},
   "outputs": [
    {
     "data": {
      "text/plain": [
       "[(-0.07485088, 'Down Periscope (1996)'),\n",
       " (-0.07265637, 'Anaconda (1997)'),\n",
       " (-0.06536376, 'Armageddon (1998)'),\n",
       " (-0.06360527, 'Showgirls (1995)'),\n",
       " (-0.06232396, 'Independence Day (a.k.a. ID4) (1996)'),\n",
       " (-0.06213758, 'Striptease (1996)'),\n",
       " (-0.06067968, 'Bodyguard, The (1992)'),\n",
       " (-0.057082824, 'Multiplicity (1996)'),\n",
       " (-0.055664208, 'Miss Congeniality (2000)'),\n",
       " (-0.05518249, 'Batman Forever (1995)')]"
      ]
     },
     "execution_count": 29,
     "metadata": {},
     "output_type": "execute_result"
    }
   ],
   "source": [
    "sorted(movies_first)[:10]"
   ]
  },
  {
   "cell_type": "markdown",
   "metadata": {},
   "source": [
    "These look like vastly different types of movies. My guess is as good as any, but I did notice that one end of the spectrum has movies all potential Oscar winners (Fargo, Godfather, Schindler's List, etc.) while the other group has movies that are more 'turn off your brain' types. This could be one of the major factors determining user ratings: level of brain stimulation."
   ]
  },
  {
   "cell_type": "markdown",
   "metadata": {},
   "source": [
    "Moving on, the second component has these two groups of movies on each end:"
   ]
  },
  {
   "cell_type": "code",
   "execution_count": 30,
   "metadata": {},
   "outputs": [
    {
     "data": {
      "text/plain": [
       "[(0.063394845, 'Leaving Las Vegas (1995)'),\n",
       " (0.06019252, 'Gosford Park (2001)'),\n",
       " (0.058534894, 'Bringing Up Baby (1938)'),\n",
       " (0.055489365, 'Vertigo (1958)'),\n",
       " (0.055376947, 'Bowfinger (1999)'),\n",
       " (0.05418765, 'Annie Hall (1977)'),\n",
       " (0.052772727, 'Mission to Mars (2000)'),\n",
       " (0.052497603, 'Brokeback Mountain (2005)'),\n",
       " (0.04934338, 'Tank Girl (1995)'),\n",
       " (0.048353933, 'Die Another Day (2002)')]"
      ]
     },
     "execution_count": 30,
     "metadata": {},
     "output_type": "execute_result"
    }
   ],
   "source": [
    "# 2nd PCA component\n",
    "second = components[1]\n",
    "movies_second = [(f, movieTitles[i]) for f,i in zip(second, topThousandMovies)]\n",
    "sorted(movies_second, reverse=True)[:10]"
   ]
  },
  {
   "cell_type": "code",
   "execution_count": 31,
   "metadata": {},
   "outputs": [
    {
     "data": {
      "text/plain": [
       "[(-0.10881687, 'Forrest Gump (1994)'),\n",
       " (-0.106100075, 'Lethal Weapon (1987)'),\n",
       " (-0.10304468, 'Jurassic Park (1993)'),\n",
       " (-0.102280125, 'Lord of the Rings: The Return of the King, The (2003)'),\n",
       " (-0.10217294,\n",
       "  'Raiders of the Lost Ark (Indiana Jones and the Raiders of the Lost Ark) (1981)'),\n",
       " (-0.10103954, 'Lord of the Rings: The Fellowship of the Ring, The (2001)'),\n",
       " (-0.100266546, 'Star Wars: Episode VI - Return of the Jedi (1983)'),\n",
       " (-0.09701176, 'Lord of the Rings: The Two Towers, The (2002)'),\n",
       " (-0.09601334, 'Spider-Man (2002)'),\n",
       " (-0.095199235, 'X2: X-Men United (2003)')]"
      ]
     },
     "execution_count": 31,
     "metadata": {},
     "output_type": "execute_result"
    }
   ],
   "source": [
    "sorted(movies_second)[:10]"
   ]
  },
  {
   "cell_type": "markdown",
   "metadata": {},
   "source": [
    "The first group looks like one with movies that have a more personal story, where characters are the focus. The second group look like huge blockbuster epics, all raking it huge in the box office with much hype."
   ]
  },
  {
   "cell_type": "code",
   "execution_count": 32,
   "metadata": {},
   "outputs": [
    {
     "data": {
      "text/plain": [
       "[(0.1073519, \"You've Got Mail (1998)\"),\n",
       " (0.100344904, 'Beauty and the Beast (1991)'),\n",
       " (0.09409, 'Sleepless in Seattle (1993)'),\n",
       " (0.0939821, 'Babe (1995)'),\n",
       " (0.08493029, 'Signs (2002)'),\n",
       " (0.08472442, 'Hunchback of Notre Dame, The (1996)'),\n",
       " (0.08204214, 'Aladdin (1992)'),\n",
       " (0.07867815, \"Schindler's List (1993)\"),\n",
       " (0.07728287, 'Sling Blade (1996)'),\n",
       " (0.07598587, \"Bug's Life, A (1998)\")]"
      ]
     },
     "execution_count": 32,
     "metadata": {},
     "output_type": "execute_result"
    }
   ],
   "source": [
    "# 3rd PCA component\n",
    "third = components[2]\n",
    "movies_third = [(f,movieTitles[i]) for f,i in zip(third, topThousandMovies)]\n",
    "sorted(movies_third, reverse=True)[:10]"
   ]
  },
  {
   "cell_type": "code",
   "execution_count": 33,
   "metadata": {},
   "outputs": [
    {
     "data": {
      "text/plain": [
       "[(-0.10807284, 'Chasing Amy (1997)'),\n",
       " (-0.10133098, 'Fight Club (1999)'),\n",
       " (-0.0994321, 'Pulp Fiction (1994)'),\n",
       " (-0.09389376, 'Star Wars: Episode VI - Return of the Jedi (1983)'),\n",
       " (-0.09082099, 'Kill Bill: Vol. 2 (2004)'),\n",
       " (-0.08619256, 'Guardians of the Galaxy (2014)'),\n",
       " (-0.08019663, 'Star Wars: Episode V - The Empire Strikes Back (1980)'),\n",
       " (-0.07695491, 'Game, The (1997)'),\n",
       " (-0.07666533, 'Nightmare Before Christmas, The (1993)'),\n",
       " (-0.074268185, 'Snatch (2000)')]"
      ]
     },
     "execution_count": 33,
     "metadata": {},
     "output_type": "execute_result"
    }
   ],
   "source": [
    "sorted(movies_third)[:10]"
   ]
  },
  {
   "cell_type": "markdown",
   "metadata": {},
   "source": [
    "This is a little harder to interpret, especially since I have only seen about 5 out of these 20 movies. What I think is that the second group is more philosophical, while the first is more comedy-based? Then again, Se7en throws that classification off. Dumbfounded, I have to settle for this famous Brad Pitt quote:\n",
    "#### \"WHAT'S IN THE COMP?!?!\""
   ]
  },
  {
   "cell_type": "markdown",
   "metadata": {},
   "source": [
    "### Conclusion\n",
    "I've built a model that's able to very accurately predict what users would rate a movie (MSE ~ 0.77) using the fast.ai library. Using PCA, I was also able to (somewhat) identify how the model differentiates characteristics of these movies.\n",
    "### Next Steps\n",
    "I'd like to use this model to built a simple Netflix-like movie recommender, if anything for personal use. I've been spending too much time browsing Netflix's movie selection that maybe going through all existing movies might yield some good recommendations."
   ]
  },
  {
   "cell_type": "code",
   "execution_count": null,
   "metadata": {},
   "outputs": [],
   "source": []
  }
 ],
 "metadata": {
  "kernelspec": {
   "display_name": "Python 3",
   "language": "python",
   "name": "python3"
  },
  "language_info": {
   "codemirror_mode": {
    "name": "ipython",
    "version": 3
   },
   "file_extension": ".py",
   "mimetype": "text/x-python",
   "name": "python",
   "nbconvert_exporter": "python",
   "pygments_lexer": "ipython3",
   "version": "3.6.5"
  }
 },
 "nbformat": 4,
 "nbformat_minor": 2
}
